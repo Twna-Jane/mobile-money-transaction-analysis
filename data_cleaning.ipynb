{
 "cells": [
  {
   "cell_type": "markdown",
   "id": "00b9f0fd",
   "metadata": {},
   "source": [
    "# Mobile Money Transaction Analysis - Data Preprocessing\n",
    "- This notebook outlines the data preprocessing process on the mobile money transactions dataset, for a user clustering task."
   ]
  },
  {
   "cell_type": "markdown",
   "id": "776eb129",
   "metadata": {},
   "source": [
    "## Required Libraries"
   ]
  },
  {
   "cell_type": "code",
   "execution_count": 1,
   "id": "38296196",
   "metadata": {},
   "outputs": [],
   "source": [
    "import pandas as pd\n",
    "import numpy as np"
   ]
  },
  {
   "cell_type": "markdown",
   "id": "581284f2",
   "metadata": {},
   "source": [
    "## Loading the Dataset\n"
   ]
  },
  {
   "cell_type": "code",
   "execution_count": 7,
   "id": "efc2df5c",
   "metadata": {},
   "outputs": [
    {
     "data": {
      "text/html": [
       "<div>\n",
       "<style scoped>\n",
       "    .dataframe tbody tr th:only-of-type {\n",
       "        vertical-align: middle;\n",
       "    }\n",
       "\n",
       "    .dataframe tbody tr th {\n",
       "        vertical-align: top;\n",
       "    }\n",
       "\n",
       "    .dataframe thead th {\n",
       "        text-align: right;\n",
       "    }\n",
       "</style>\n",
       "<table border=\"1\" class=\"dataframe\">\n",
       "  <thead>\n",
       "    <tr style=\"text-align: right;\">\n",
       "      <th></th>\n",
       "      <th>step</th>\n",
       "      <th>transactionType</th>\n",
       "      <th>amount</th>\n",
       "      <th>initiator</th>\n",
       "      <th>oldBalInitiator</th>\n",
       "      <th>newBalInitiator</th>\n",
       "      <th>recipient</th>\n",
       "      <th>oldBalRecipient</th>\n",
       "      <th>newBalRecipient</th>\n",
       "      <th>isFraud</th>\n",
       "    </tr>\n",
       "  </thead>\n",
       "  <tbody>\n",
       "    <tr>\n",
       "      <th>0</th>\n",
       "      <td>0</td>\n",
       "      <td>TRANSFER</td>\n",
       "      <td>19824.96</td>\n",
       "      <td>4537027967639631</td>\n",
       "      <td>187712.18</td>\n",
       "      <td>167887.22</td>\n",
       "      <td>4875702729424478</td>\n",
       "      <td>8.31</td>\n",
       "      <td>19833.27</td>\n",
       "      <td>1</td>\n",
       "    </tr>\n",
       "    <tr>\n",
       "      <th>1</th>\n",
       "      <td>0</td>\n",
       "      <td>PAYMENT</td>\n",
       "      <td>598.97</td>\n",
       "      <td>4296267625767470</td>\n",
       "      <td>8.92</td>\n",
       "      <td>8.92</td>\n",
       "      <td>25-0000401</td>\n",
       "      <td>0.00</td>\n",
       "      <td>0.00</td>\n",
       "      <td>0</td>\n",
       "    </tr>\n",
       "    <tr>\n",
       "      <th>2</th>\n",
       "      <td>0</td>\n",
       "      <td>PAYMENT</td>\n",
       "      <td>545.85</td>\n",
       "      <td>4178224023847746</td>\n",
       "      <td>93.60</td>\n",
       "      <td>-452.25</td>\n",
       "      <td>13-0001587</td>\n",
       "      <td>0.00</td>\n",
       "      <td>545.85</td>\n",
       "      <td>0</td>\n",
       "    </tr>\n",
       "    <tr>\n",
       "      <th>3</th>\n",
       "      <td>0</td>\n",
       "      <td>TRANSFER</td>\n",
       "      <td>19847.01</td>\n",
       "      <td>4178224023847746</td>\n",
       "      <td>-452.25</td>\n",
       "      <td>-20299.26</td>\n",
       "      <td>4096920916696293</td>\n",
       "      <td>4011.72</td>\n",
       "      <td>23858.74</td>\n",
       "      <td>1</td>\n",
       "    </tr>\n",
       "    <tr>\n",
       "      <th>4</th>\n",
       "      <td>0</td>\n",
       "      <td>PAYMENT</td>\n",
       "      <td>546.89</td>\n",
       "      <td>4779013371563747</td>\n",
       "      <td>159148.76</td>\n",
       "      <td>158601.88</td>\n",
       "      <td>75-0003564</td>\n",
       "      <td>0.00</td>\n",
       "      <td>546.89</td>\n",
       "      <td>0</td>\n",
       "    </tr>\n",
       "  </tbody>\n",
       "</table>\n",
       "</div>"
      ],
      "text/plain": [
       "   step transactionType    amount         initiator  oldBalInitiator  \\\n",
       "0     0        TRANSFER  19824.96  4537027967639631        187712.18   \n",
       "1     0         PAYMENT    598.97  4296267625767470             8.92   \n",
       "2     0         PAYMENT    545.85  4178224023847746            93.60   \n",
       "3     0        TRANSFER  19847.01  4178224023847746          -452.25   \n",
       "4     0         PAYMENT    546.89  4779013371563747        159148.76   \n",
       "\n",
       "   newBalInitiator         recipient  oldBalRecipient  newBalRecipient  \\\n",
       "0        167887.22  4875702729424478             8.31         19833.27   \n",
       "1             8.92        25-0000401             0.00             0.00   \n",
       "2          -452.25        13-0001587             0.00           545.85   \n",
       "3        -20299.26  4096920916696293          4011.72         23858.74   \n",
       "4        158601.88        75-0003564             0.00           546.89   \n",
       "\n",
       "   isFraud  \n",
       "0        1  \n",
       "1        0  \n",
       "2        0  \n",
       "3        1  \n",
       "4        0  "
      ]
     },
     "execution_count": 7,
     "metadata": {},
     "output_type": "execute_result"
    }
   ],
   "source": [
    "FILE_PATH = \"transactions.csv\"\n",
    "data = pd.read_csv(FILE_PATH)\n",
    "data.head()"
   ]
  },
  {
   "cell_type": "markdown",
   "id": "d7c09653",
   "metadata": {},
   "source": [
    "## Dataset Shape"
   ]
  },
  {
   "cell_type": "code",
   "execution_count": 8,
   "id": "ff060b67",
   "metadata": {},
   "outputs": [
    {
     "data": {
      "text/plain": [
       "(1720181, 10)"
      ]
     },
     "execution_count": 8,
     "metadata": {},
     "output_type": "execute_result"
    }
   ],
   "source": [
    "data.shape"
   ]
  },
  {
   "cell_type": "markdown",
   "id": "f177a31c",
   "metadata": {},
   "source": [
    "## Dataset Summary"
   ]
  },
  {
   "cell_type": "code",
   "execution_count": 9,
   "id": "7e41431a",
   "metadata": {},
   "outputs": [
    {
     "name": "stdout",
     "output_type": "stream",
     "text": [
      "<class 'pandas.core.frame.DataFrame'>\n",
      "RangeIndex: 1720181 entries, 0 to 1720180\n",
      "Data columns (total 10 columns):\n",
      " #   Column           Dtype  \n",
      "---  ------           -----  \n",
      " 0   step             int64  \n",
      " 1   transactionType  object \n",
      " 2   amount           float64\n",
      " 3   initiator        int64  \n",
      " 4   oldBalInitiator  float64\n",
      " 5   newBalInitiator  float64\n",
      " 6   recipient        object \n",
      " 7   oldBalRecipient  float64\n",
      " 8   newBalRecipient  float64\n",
      " 9   isFraud          int64  \n",
      "dtypes: float64(5), int64(3), object(2)\n",
      "memory usage: 131.2+ MB\n"
     ]
    }
   ],
   "source": [
    "data.info()"
   ]
  },
  {
   "cell_type": "markdown",
   "id": "8b185631",
   "metadata": {},
   "source": [
    "### Descriptive Statistics"
   ]
  },
  {
   "cell_type": "code",
   "execution_count": 10,
   "id": "1bfd5741",
   "metadata": {},
   "outputs": [
    {
     "data": {
      "text/html": [
       "<div>\n",
       "<style scoped>\n",
       "    .dataframe tbody tr th:only-of-type {\n",
       "        vertical-align: middle;\n",
       "    }\n",
       "\n",
       "    .dataframe tbody tr th {\n",
       "        vertical-align: top;\n",
       "    }\n",
       "\n",
       "    .dataframe thead th {\n",
       "        text-align: right;\n",
       "    }\n",
       "</style>\n",
       "<table border=\"1\" class=\"dataframe\">\n",
       "  <thead>\n",
       "    <tr style=\"text-align: right;\">\n",
       "      <th></th>\n",
       "      <th>step</th>\n",
       "      <th>amount</th>\n",
       "      <th>initiator</th>\n",
       "      <th>oldBalInitiator</th>\n",
       "      <th>newBalInitiator</th>\n",
       "      <th>oldBalRecipient</th>\n",
       "      <th>newBalRecipient</th>\n",
       "      <th>isFraud</th>\n",
       "    </tr>\n",
       "  </thead>\n",
       "  <tbody>\n",
       "    <tr>\n",
       "      <th>count</th>\n",
       "      <td>1.720181e+06</td>\n",
       "      <td>1.720181e+06</td>\n",
       "      <td>1.720181e+06</td>\n",
       "      <td>1.720181e+06</td>\n",
       "      <td>1.720181e+06</td>\n",
       "      <td>1.720181e+06</td>\n",
       "      <td>1.720181e+06</td>\n",
       "      <td>1.720181e+06</td>\n",
       "    </tr>\n",
       "    <tr>\n",
       "      <th>mean</th>\n",
       "      <td>6.555529e+01</td>\n",
       "      <td>5.253868e+04</td>\n",
       "      <td>4.499952e+15</td>\n",
       "      <td>2.433758e+06</td>\n",
       "      <td>2.443880e+06</td>\n",
       "      <td>1.085083e+05</td>\n",
       "      <td>1.222772e+05</td>\n",
       "      <td>1.020346e-01</td>\n",
       "    </tr>\n",
       "    <tr>\n",
       "      <th>std</th>\n",
       "      <td>4.467368e+01</td>\n",
       "      <td>8.835650e+04</td>\n",
       "      <td>2.896351e+14</td>\n",
       "      <td>1.307615e+06</td>\n",
       "      <td>1.297181e+06</td>\n",
       "      <td>2.830138e+05</td>\n",
       "      <td>3.192277e+05</td>\n",
       "      <td>3.026939e-01</td>\n",
       "    </tr>\n",
       "    <tr>\n",
       "      <th>min</th>\n",
       "      <td>0.000000e+00</td>\n",
       "      <td>2.400000e-01</td>\n",
       "      <td>4.000062e+15</td>\n",
       "      <td>-1.999971e+05</td>\n",
       "      <td>-1.999971e+05</td>\n",
       "      <td>-1.983685e+05</td>\n",
       "      <td>-1.357280e+05</td>\n",
       "      <td>0.000000e+00</td>\n",
       "    </tr>\n",
       "    <tr>\n",
       "      <th>25%</th>\n",
       "      <td>2.300000e+01</td>\n",
       "      <td>6.064600e+02</td>\n",
       "      <td>4.248762e+15</td>\n",
       "      <td>1.577186e+06</td>\n",
       "      <td>1.600496e+06</td>\n",
       "      <td>1.606423e+04</td>\n",
       "      <td>2.496233e+04</td>\n",
       "      <td>0.000000e+00</td>\n",
       "    </tr>\n",
       "    <tr>\n",
       "      <th>50%</th>\n",
       "      <td>5.400000e+01</td>\n",
       "      <td>1.729825e+04</td>\n",
       "      <td>4.508521e+15</td>\n",
       "      <td>2.619827e+06</td>\n",
       "      <td>2.625680e+06</td>\n",
       "      <td>6.313018e+04</td>\n",
       "      <td>7.448161e+04</td>\n",
       "      <td>0.000000e+00</td>\n",
       "    </tr>\n",
       "    <tr>\n",
       "      <th>75%</th>\n",
       "      <td>1.060000e+02</td>\n",
       "      <td>7.116149e+04</td>\n",
       "      <td>4.750928e+15</td>\n",
       "      <td>3.361338e+06</td>\n",
       "      <td>3.361872e+06</td>\n",
       "      <td>1.373822e+05</td>\n",
       "      <td>1.431702e+05</td>\n",
       "      <td>0.000000e+00</td>\n",
       "    </tr>\n",
       "    <tr>\n",
       "      <th>max</th>\n",
       "      <td>1.430000e+02</td>\n",
       "      <td>2.142928e+06</td>\n",
       "      <td>4.999855e+15</td>\n",
       "      <td>1.224469e+07</td>\n",
       "      <td>1.224469e+07</td>\n",
       "      <td>1.188554e+07</td>\n",
       "      <td>1.206621e+07</td>\n",
       "      <td>1.000000e+00</td>\n",
       "    </tr>\n",
       "  </tbody>\n",
       "</table>\n",
       "</div>"
      ],
      "text/plain": [
       "               step        amount     initiator  oldBalInitiator  \\\n",
       "count  1.720181e+06  1.720181e+06  1.720181e+06     1.720181e+06   \n",
       "mean   6.555529e+01  5.253868e+04  4.499952e+15     2.433758e+06   \n",
       "std    4.467368e+01  8.835650e+04  2.896351e+14     1.307615e+06   \n",
       "min    0.000000e+00  2.400000e-01  4.000062e+15    -1.999971e+05   \n",
       "25%    2.300000e+01  6.064600e+02  4.248762e+15     1.577186e+06   \n",
       "50%    5.400000e+01  1.729825e+04  4.508521e+15     2.619827e+06   \n",
       "75%    1.060000e+02  7.116149e+04  4.750928e+15     3.361338e+06   \n",
       "max    1.430000e+02  2.142928e+06  4.999855e+15     1.224469e+07   \n",
       "\n",
       "       newBalInitiator  oldBalRecipient  newBalRecipient       isFraud  \n",
       "count     1.720181e+06     1.720181e+06     1.720181e+06  1.720181e+06  \n",
       "mean      2.443880e+06     1.085083e+05     1.222772e+05  1.020346e-01  \n",
       "std       1.297181e+06     2.830138e+05     3.192277e+05  3.026939e-01  \n",
       "min      -1.999971e+05    -1.983685e+05    -1.357280e+05  0.000000e+00  \n",
       "25%       1.600496e+06     1.606423e+04     2.496233e+04  0.000000e+00  \n",
       "50%       2.625680e+06     6.313018e+04     7.448161e+04  0.000000e+00  \n",
       "75%       3.361872e+06     1.373822e+05     1.431702e+05  0.000000e+00  \n",
       "max       1.224469e+07     1.188554e+07     1.206621e+07  1.000000e+00  "
      ]
     },
     "execution_count": 10,
     "metadata": {},
     "output_type": "execute_result"
    }
   ],
   "source": [
    "data.describe()"
   ]
  },
  {
   "cell_type": "markdown",
   "id": "9fb5e760",
   "metadata": {},
   "source": [
    "## Dropping Duplicates"
   ]
  },
  {
   "cell_type": "code",
   "execution_count": 11,
   "id": "4bd4be6f",
   "metadata": {},
   "outputs": [],
   "source": [
    "data = data.drop_duplicates()"
   ]
  },
  {
   "cell_type": "markdown",
   "id": "3f75bbdd",
   "metadata": {},
   "source": [
    "## Checking for Null Values in Dataset"
   ]
  },
  {
   "cell_type": "code",
   "execution_count": 6,
   "id": "b7a201d3",
   "metadata": {},
   "outputs": [
    {
     "data": {
      "text/plain": [
       "step               0\n",
       "transactionType    0\n",
       "amount             0\n",
       "initiator          0\n",
       "oldBalInitiator    0\n",
       "newBalInitiator    0\n",
       "recipient          0\n",
       "oldBalRecipient    0\n",
       "newBalRecipient    0\n",
       "isFraud            0\n",
       "dtype: int64"
      ]
     },
     "execution_count": 6,
     "metadata": {},
     "output_type": "execute_result"
    }
   ],
   "source": [
    "data.isnull().sum()"
   ]
  },
  {
   "cell_type": "markdown",
   "id": "4b591061",
   "metadata": {},
   "source": [
    "- No null values found, hence no need to handle missing values."
   ]
  },
  {
   "cell_type": "markdown",
   "id": "e30df2da",
   "metadata": {},
   "source": [
    "## Removing Outliers\n",
    "- The top 1% and bottom 1% of records containing amount on extreme ends are removed to reduce the dataset size."
   ]
  },
  {
   "cell_type": "code",
   "execution_count": 13,
   "id": "0914d882",
   "metadata": {},
   "outputs": [],
   "source": [
    "q_low = data['amount'].quantile(0.01)\n",
    "q_high = data['amount'].quantile(0.99)\n",
    "\n",
    "# Filter out top 1% and bottom 1%\n",
    "data = data[(data['amount'] >= q_low) & (data['amount'] <= q_high)]"
   ]
  },
  {
   "cell_type": "markdown",
   "id": "8bfe51b8",
   "metadata": {},
   "source": [
    "### Shape after Filtering Outliers"
   ]
  },
  {
   "cell_type": "code",
   "execution_count": 14,
   "id": "22bb1e79",
   "metadata": {},
   "outputs": [
    {
     "data": {
      "text/plain": [
       "(1685998, 10)"
      ]
     },
     "execution_count": 14,
     "metadata": {},
     "output_type": "execute_result"
    }
   ],
   "source": [
    "data.shape"
   ]
  }
 ],
 "metadata": {
  "kernelspec": {
   "display_name": ".venv",
   "language": "python",
   "name": "python3"
  },
  "language_info": {
   "codemirror_mode": {
    "name": "ipython",
    "version": 3
   },
   "file_extension": ".py",
   "mimetype": "text/x-python",
   "name": "python",
   "nbconvert_exporter": "python",
   "pygments_lexer": "ipython3",
   "version": "3.12.3"
  }
 },
 "nbformat": 4,
 "nbformat_minor": 5
}
